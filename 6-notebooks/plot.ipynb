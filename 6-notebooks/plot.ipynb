{
 "cells": [
  {
   "cell_type": "code",
   "execution_count": null,
   "id": "c57ec93e",
   "metadata": {},
   "outputs": [],
   "source": [
    "from github import Github\n",
    "\n",
    "gh = Github()\n",
    "repo = gh.get_repo(\"conveyordata/data-product-portal\")\n",
    "stargazers = repo.get_stargazers_with_dates()\n"
   ]
  },
  {
   "cell_type": "code",
   "execution_count": null,
   "id": "c31d8bf2",
   "metadata": {},
   "outputs": [],
   "source": [
    "import polars as pl\n",
    "\n",
    "gazers = [{ \"name\": stargazer.user.login, \"date\": stargazer.starred_at } for stargazer in stargazers]\n",
    "df = pl.DataFrame(data=gazers)\n",
    "\n",
    "df.group_by_dynamic(\"date\", every=\"1mo\").agg(\n",
    "    pl.count(\"name\").alias(\"count\"),\n",
    ").plot.bar(x=\"date\", y=\"count\").properties(\n",
    "    title=\"Monthly Stargazers\",\n",
    "    width=800,\n",
    "    height=400\n",
    ")"
   ]
  }
 ],
 "metadata": {
  "kernelspec": {
   "display_name": ".venv",
   "language": "python",
   "name": "python3"
  },
  "language_info": {
   "codemirror_mode": {
    "name": "ipython",
    "version": 3
   },
   "file_extension": ".py",
   "mimetype": "text/x-python",
   "name": "python",
   "nbconvert_exporter": "python",
   "pygments_lexer": "ipython3"
  }
 },
 "nbformat": 4,
 "nbformat_minor": 5
}
